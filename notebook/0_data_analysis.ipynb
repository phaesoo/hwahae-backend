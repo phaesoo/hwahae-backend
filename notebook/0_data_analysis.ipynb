{
 "cells": [
  {
   "cell_type": "code",
   "execution_count": 130,
   "metadata": {},
   "outputs": [],
   "source": [
    "import requests\n",
    "import json\n",
    "import pandas as pd"
   ]
  },
  {
   "cell_type": "markdown",
   "metadata": {},
   "source": [
    "# Items"
   ]
  },
  {
   "cell_type": "code",
   "execution_count": 120,
   "metadata": {},
   "outputs": [],
   "source": [
    "response=requests.get(\"https://grepp-programmers-challenges.s3.ap-northeast-2.amazonaws.com/2020-birdview/item-data.json\")\n",
    "item_list = json.loads(response.content.decode(\"utf-8\"))\n",
    "item_df = pd.DataFrame.from_dict(item_list).astype({\"price\": int})"
   ]
  },
  {
   "cell_type": "code",
   "execution_count": 121,
   "metadata": {},
   "outputs": [],
   "source": [
    "# ingredients would be better to unified with lower case for comparing purpose\n",
    "item_df[\"ingredients\"] = item_df[\"ingredients\"].str.lower()"
   ]
  },
  {
   "cell_type": "code",
   "execution_count": 122,
   "metadata": {},
   "outputs": [
    {
     "data": {
      "text/plain": [
       "category        object\n",
       "gender          object\n",
       "id               int64\n",
       "imageId         object\n",
       "ingredients     object\n",
       "monthlySales     int64\n",
       "name            object\n",
       "price            int64\n",
       "dtype: object"
      ]
     },
     "execution_count": 122,
     "metadata": {},
     "output_type": "execute_result"
    }
   ],
   "source": [
    "item_df.dtypes"
   ]
  },
  {
   "cell_type": "code",
   "execution_count": 123,
   "metadata": {},
   "outputs": [
    {
     "name": "stdout",
     "output_type": "stream",
     "text": [
      "category 10\n",
      "gender 6\n",
      "imageId 36\n",
      "ingredients 96\n",
      "name 70\n"
     ]
    }
   ],
   "source": [
    "# to check proper column length\n",
    "for column in item_df.columns:\n",
    "    if item_df[column].dtype != object:\n",
    "        continue\n",
    "    print (column, item_df[column].map(len).max())"
   ]
  },
  {
   "cell_type": "code",
   "execution_count": 124,
   "metadata": {},
   "outputs": [
    {
     "data": {
      "text/plain": [
       "'1647f43c-2919-4cbf-9de4-b56a4817779d'"
      ]
     },
     "execution_count": 124,
     "metadata": {},
     "output_type": "execute_result"
    }
   ],
   "source": [
    "item_list[4][\"imageId\"]"
   ]
  },
  {
   "cell_type": "code",
   "execution_count": 125,
   "metadata": {},
   "outputs": [],
   "source": [
    "# to prepare for one to many table\n",
    "item_ingr_df = item_df[[\"id\", \"ingredients\"]]"
   ]
  },
  {
   "cell_type": "markdown",
   "metadata": {},
   "source": [
    "# Ingredients"
   ]
  },
  {
   "cell_type": "code",
   "execution_count": 9,
   "metadata": {},
   "outputs": [],
   "source": [
    "response=requests.get(\"https://grepp-programmers-challenges.s3.ap-northeast-2.amazonaws.com/2020-birdview/ingredient-data.json\")\n",
    "ingr_list = json.loads(response.content.decode(\"utf-8\"))\n",
    "ingr_df = pd.DataFrame.from_dict(ingr_list)\n"
   ]
  },
  {
   "cell_type": "code",
   "execution_count": 10,
   "metadata": {},
   "outputs": [],
   "source": [
    "# unify with lower case as above\n",
    "ingr_df[\"name\"] = ingr_df[\"name\"].str.lower()"
   ]
  },
  {
   "cell_type": "code",
   "execution_count": 11,
   "metadata": {
    "scrolled": true
   },
   "outputs": [],
   "source": [
    "# index column would be pkey for ingredient table\n",
    "ingr_df = ingr_df.sort_values(by=\"name\").reset_index(drop=True)"
   ]
  },
  {
   "cell_type": "code",
   "execution_count": 12,
   "metadata": {},
   "outputs": [],
   "source": [
    "def convert_score(mark):\n",
    "    if mark == \"O\":\n",
    "        return 1\n",
    "    elif mark == \"X\":\n",
    "        return -1\n",
    "    elif mark == \"\":\n",
    "        return 0\n",
    "    else:\n",
    "        raise ValueError(\"Unexpected mark: {}\".format(mark))\n",
    "        \n",
    "for column in ingr_df.columns:\n",
    "    if column == \"name\":\n",
    "        continue\n",
    "    ingr_df[column] = ingr_df[column].map(convert_score)"
   ]
  },
  {
   "cell_type": "code",
   "execution_count": 78,
   "metadata": {},
   "outputs": [
    {
     "name": "stdout",
     "output_type": "stream",
     "text": [
      "18\n"
     ]
    }
   ],
   "source": [
    "# check max len for proper column len\n",
    "print (ingr_df[\"name\"].map(len).max())"
   ]
  },
  {
   "cell_type": "code",
   "execution_count": 79,
   "metadata": {},
   "outputs": [],
   "source": [
    "ingr_df[\"id\"] = ingr_df.index"
   ]
  },
  {
   "cell_type": "markdown",
   "metadata": {},
   "source": [
    "# Item-Ingredients (many to many)"
   ]
  },
  {
   "cell_type": "code",
   "execution_count": 14,
   "metadata": {},
   "outputs": [],
   "source": [
    "# ingredient - primary key dict\n",
    "ingr_pkey_dict = dict(zip(ingr_df[\"name\"], ingr_df.index))"
   ]
  },
  {
   "cell_type": "code",
   "execution_count": 29,
   "metadata": {},
   "outputs": [],
   "source": [
    "itemkey_ingrkey_list = list()\n",
    "unknown_ingr_list = list()\n",
    "\n",
    "for i in item_ingr_df.index:\n",
    "    row = item_ingr_df.loc[i]\n",
    "    ingredients = row[\"ingredients\"].split(\",\")\n",
    "    \n",
    "    # remove potential duplicates\n",
    "    ingredients = list(set(ingredients))\n",
    "    \n",
    "    for ingr in ingredients:\n",
    "        pkey = ingr_pkey_dict.get(ingr)\n",
    "        if pkey is None:\n",
    "            unknown_ingr_list.append(ingr)\n",
    "        else:\n",
    "            itemkey_ingrkey_list.append((row[\"id\"], pkey))\n",
    "\n",
    "if len(unknown_ingr_list):\n",
    "    print (\"Unknown ingredient list: {}\".format(len(unknown_ingr_list)))"
   ]
  },
  {
   "cell_type": "code",
   "execution_count": 98,
   "metadata": {},
   "outputs": [],
   "source": [
    "# ingredient - primary key dict\n",
    "ingr_pkey_dict = dict(zip(ingr_df[\"name\"], ingr_df.index))\n",
    "itemkey_ingrkey_dict = dict()\n",
    "unknown_ingr_list = list()\n",
    "\n",
    "for i in item_ingr_df.index:\n",
    "    row = item_ingr_df.loc[i]\n",
    "    ingredients = row[\"ingredients\"].split(\",\")\n",
    "    \n",
    "    # remove potential duplicates\n",
    "    ingredients = list(set(ingredients))\n",
    "    \n",
    "    for ingr in ingredients:\n",
    "        pkey = ingr_pkey_dict.get(ingr)\n",
    "        if pkey is None:\n",
    "            unknown_ingr_list.append(ingr)\n",
    "        else:\n",
    "            data = itemkey_ingrkey_dict.get(row[\"id\"])\n",
    "            if data is None:\n",
    "                itemkey_ingrkey_dict[row[\"id\"]] = list()\n",
    "            itemkey_ingrkey_dict[row[\"id\"]].append(pkey)\n",
    "if len(unknown_ingr_list):\n",
    "    print (\"Unknown ingredient list: {}\".format(len(unknown_ingr_list)))"
   ]
  },
  {
   "cell_type": "markdown",
   "metadata": {},
   "source": [
    "# dump fixtures"
   ]
  },
  {
   "cell_type": "code",
   "execution_count": 97,
   "metadata": {},
   "outputs": [],
   "source": [
    "dump_item_ingredients = list()\n",
    "\n",
    "row_num = len(itemkey_ingrkey_list)\n",
    "for i in range(row_num):\n",
    "    row = itemkey_ingrkey_list[i]\n",
    "    dump_list.append({\n",
    "        \"model\": \"api.item_ingredients\",\n",
    "        \"fields\": {\n",
    "            \"id\": i,\n",
    "            \"item_id\": int(row[0]),\n",
    "            \"ingredient_id\": int(row[1])\n",
    "        }\n",
    "    })\n",
    "\n",
    "with open(\"./item_ingredients.json\", 'w') as f:\n",
    "    f.write(json.dumps(dump_item_ingredients, indent=4))"
   ]
  },
  {
   "cell_type": "code",
   "execution_count": 103,
   "metadata": {},
   "outputs": [],
   "source": [
    "ingr_dict = ingr_df.T.to_dict()\n",
    "\n",
    "dump_ingr_list = list()\n",
    "for key in ingr_dict:\n",
    "    dump_ingr_list.append({\n",
    "        \"model\": \"api.ingredient\",\n",
    "        \"fields\": ingr_dict[key]\n",
    "    })\n",
    "with open(\"./ingredient.json\", 'w') as f:\n",
    "    f.write(json.dumps(dump_ingr_list, indent=4))"
   ]
  },
  {
   "cell_type": "code",
   "execution_count": 126,
   "metadata": {},
   "outputs": [],
   "source": [
    "# without ingredients\n",
    "item_dict = item_df[['category', 'gender', 'id', 'imageId', 'monthlySales',\n",
    "       'name', 'price']].T.to_dict()\n",
    "dump_item_list = list()\n",
    "for key in item_dict:\n",
    "    row_dict = item_dict[key]\n",
    "    row_dict.update({\n",
    "        \"ingredients\": itemkey_ingrkey_dict[row_dict[\"id\"]]\n",
    "    })\n",
    "    dump_item_list.append({\n",
    "        \"model\": \"api.item\",\n",
    "        \"fields\": item_dict[key]\n",
    "    })\n",
    "with open(\"./item.json\", 'w') as f:\n",
    "    f.write(json.dumps(dump_item_list, indent=4, ensure_ascii=False))"
   ]
  }
 ],
 "metadata": {
  "kernelspec": {
   "display_name": "Python 3",
   "language": "python",
   "name": "python3"
  },
  "language_info": {
   "codemirror_mode": {
    "name": "ipython",
    "version": 3
   },
   "file_extension": ".py",
   "mimetype": "text/x-python",
   "name": "python",
   "nbconvert_exporter": "python",
   "pygments_lexer": "ipython3",
   "version": "3.5.2"
  }
 },
 "nbformat": 4,
 "nbformat_minor": 4
}
